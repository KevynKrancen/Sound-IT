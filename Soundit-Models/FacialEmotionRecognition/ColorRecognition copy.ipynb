{
 "cells": [
  {
   "cell_type": "code",
   "execution_count": 2,
   "metadata": {},
   "outputs": [],
   "source": [
    "import numpy as np\n",
    "import cv2"
   ]
  },
  {
   "cell_type": "code",
   "execution_count": 1,
   "metadata": {},
   "outputs": [
    {
     "ename": "NameError",
     "evalue": "name 'cv2' is not defined",
     "output_type": "error",
     "traceback": [
      "\u001b[0;31m---------------------------------------------------------------------------\u001b[0m",
      "\u001b[0;31mNameError\u001b[0m                                 Traceback (most recent call last)",
      "Cell \u001b[0;32mIn [1], line 3\u001b[0m\n\u001b[1;32m      1\u001b[0m AverageColors\u001b[39m=\u001b[39m[]\n\u001b[1;32m      2\u001b[0m video \u001b[39m=\u001b[39m \u001b[39m'\u001b[39m\u001b[39m/Users/kevynkrancenblum/Desktop/Data Science/Final Project/Facial_emotion_recognition/feartest1.mp4\u001b[39m\u001b[39m'\u001b[39m\n\u001b[0;32m----> 3\u001b[0m cap \u001b[39m=\u001b[39m cv2\u001b[39m.\u001b[39mVideoCapture(video)\n\u001b[1;32m      4\u001b[0m \u001b[39mwhile\u001b[39;00m \u001b[39mTrue\u001b[39;00m:\n\u001b[1;32m      5\u001b[0m     \u001b[39m# Process Key (ESC: end)\u001b[39;00m\n\u001b[1;32m      6\u001b[0m     key \u001b[39m=\u001b[39m cv2\u001b[39m.\u001b[39mwaitKey(\u001b[39m1\u001b[39m)\n",
      "\u001b[0;31mNameError\u001b[0m: name 'cv2' is not defined"
     ]
    }
   ],
   "source": [
    "AverageColors=[]\n",
    "video = '/Users/kevynkrancenblum/Desktop/Data Science/Final Project/Facial_emotion_recognition/feartest1.mp4'\n",
    "cap = cv2.VideoCapture(video)\n",
    "while True:\n",
    "    # Process Key (ESC: end)\n",
    "    key = cv2.waitKey(1)\n",
    "    if key == 27:  # ESC\n",
    "        cap.release()\n",
    "        cv2.destroyAllWindows()\n",
    "    # Camera capture\n",
    "    success, image = cap.read()\n",
    "    if not success:\n",
    "        break\n",
    "    image = cv2.flip(image, 1)  # Mirror display\n",
    "    # Detection implementation\n",
    "    average_color_row = np.average(image, axis=0)\n",
    "    average_color = np.average(average_color_row, axis=0)\n",
    "    d_img = np.ones((312,312,3), dtype=np.uint8)\n",
    "    d_img[:,:] = average_color\n",
    "    image = cv2.cvtColor(image, cv2.COLOR_BGR2RGB)\n",
    "    image.flags.writeable = False\n",
    "    image = cv2.cvtColor(image, cv2.COLOR_BGR2RGB)\n",
    "    AverageColors.append(average_color)\n",
    "    cv2.imshow('Facial Emotion Recognition', image)\n",
    "    cv2.imshow('Average Color',d_img)"
   ]
  },
  {
   "cell_type": "code",
   "execution_count": 9,
   "metadata": {},
   "outputs": [
    {
     "data": {
      "text/plain": [
       "array([109, 135, 122])"
      ]
     },
     "execution_count": 9,
     "metadata": {},
     "output_type": "execute_result"
    }
   ],
   "source": [
    "BGRCOLOR=np.average(AverageColors, axis=0).astype(int)\n",
    "BGRCOLOR"
   ]
  },
  {
   "cell_type": "code",
   "execution_count": 10,
   "metadata": {},
   "outputs": [
    {
     "name": "stdout",
     "output_type": "stream",
     "text": [
      "happy\n"
     ]
    }
   ],
   "source": [
    "if (BGRCOLOR[0]>=0 and BGRCOLOR[0]<=173) and (BGRCOLOR[1]>=100 and BGRCOLOR[1]<=255) and (BGRCOLOR[2]>=0 and BGRCOLOR[2]<=170):  #green\n",
    "    print(\"happy\")\n",
    "elif(BGRCOLOR[0]>=128 and BGRCOLOR[0]<=255) and (BGRCOLOR[1]>=0 and BGRCOLOR[1]<=160) and (BGRCOLOR[2]>=0 and BGRCOLOR[2]<=147): #red\n",
    "    print(\"angry\")\n",
    "elif (BGRCOLOR[0]>=0 and BGRCOLOR[0]<=240) and (BGRCOLOR[1]>=0 and BGRCOLOR[1]<=248) and (BGRCOLOR[2]>=112 and BGRCOLOR[2]<=255): #blue\n",
    "    print(\"sad\")\n"
   ]
  }
 ],
 "metadata": {
  "kernelspec": {
   "display_name": "Python 3.9.13 ('tensorflow')",
   "language": "python",
   "name": "python3"
  },
  "language_info": {
   "codemirror_mode": {
    "name": "ipython",
    "version": 3
   },
   "file_extension": ".py",
   "mimetype": "text/x-python",
   "name": "python",
   "nbconvert_exporter": "python",
   "pygments_lexer": "ipython3",
   "version": "3.9.15"
  },
  "orig_nbformat": 4,
  "vscode": {
   "interpreter": {
    "hash": "8f27e84c7fb4756fe30ebd2212452f90785c16891dd0ca65c023d02a7a434102"
   }
  }
 },
 "nbformat": 4,
 "nbformat_minor": 2
}
